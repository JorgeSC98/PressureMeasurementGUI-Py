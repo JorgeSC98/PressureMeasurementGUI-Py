{
 "cells": [
  {
   "cell_type": "code",
   "execution_count": null,
   "id": "e3e8e227",
   "metadata": {},
   "outputs": [],
   "source": [
    "from tkinter import Tk\n",
    "from IPS import MainFrame\n",
    "\n",
    "if __name__==\"__main__\":\n",
    "    root=Tk()\n",
    "    root.wm_title(\" Interface Pressure System\")\n",
    "    app= MainFrame(root)\n",
    "    app.mainloop()"
   ]
  },
  {
   "cell_type": "code",
   "execution_count": null,
   "id": "389560bd",
   "metadata": {},
   "outputs": [],
   "source": []
  },
  {
   "cell_type": "code",
   "execution_count": null,
   "id": "3d6bbf90",
   "metadata": {},
   "outputs": [],
   "source": []
  },
  {
   "cell_type": "code",
   "execution_count": null,
   "id": "f489a88c",
   "metadata": {},
   "outputs": [],
   "source": []
  }
 ],
 "metadata": {
  "kernelspec": {
   "display_name": "Python 3 (ipykernel)",
   "language": "python",
   "name": "python3"
  },
  "language_info": {
   "codemirror_mode": {
    "name": "ipython",
    "version": 3
   },
   "file_extension": ".py",
   "mimetype": "text/x-python",
   "name": "python",
   "nbconvert_exporter": "python",
   "pygments_lexer": "ipython3",
   "version": "3.9.7"
  }
 },
 "nbformat": 4,
 "nbformat_minor": 5
}
